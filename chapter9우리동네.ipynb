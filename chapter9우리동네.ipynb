{
  "nbformat": 4,
  "nbformat_minor": 0,
  "metadata": {
    "colab": {
      "provenance": [],
      "authorship_tag": "ABX9TyNph6pH9+0Qw3vzimwwxyjI",
      "include_colab_link": true
    },
    "kernelspec": {
      "name": "python3",
      "display_name": "Python 3"
    },
    "language_info": {
      "name": "python"
    }
  },
  "cells": [
    {
      "cell_type": "markdown",
      "metadata": {
        "id": "view-in-github",
        "colab_type": "text"
      },
      "source": [
        "<a href=\"https://colab.research.google.com/github/yunyoungso/2023/blob/main/chapter9%EC%9A%B0%EB%A6%AC%EB%8F%99%EB%84%A4.ipynb\" target=\"_parent\"><img src=\"https://colab.research.google.com/assets/colab-badge.svg\" alt=\"Open In Colab\"/></a>"
      ]
    },
    {
      "cell_type": "markdown",
      "source": [
        "프로젝트를 이끄는 질문 - 예시) 제주도는 정말 삼다도 일까요?\n",
        "우리 동네 인구구조는?\n",
        "편의점엔 어떤 식품이 잘 팔릴까요?\n",
        "10년전 인구구조가 비슷했던 곳은 어떤 문제를 겪고 있나요?\n"
      ],
      "metadata": {
        "id": "234y9XYJZ0k5"
      }
    },
    {
      "cell_type": "markdown",
      "source": [
        "1) 데이터 업로드하기"
      ],
      "metadata": {
        "id": "qpWf_zRsaVK5"
      }
    },
    {
      "cell_type": "code",
      "execution_count": null,
      "metadata": {
        "id": "UgxYpO-PZSUu"
      },
      "outputs": [],
      "source": [
        "from google.colab import files\n",
        "files.upload()"
      ]
    },
    {
      "cell_type": "markdown",
      "source": [
        "2) 데이터 업로드 확인하기"
      ],
      "metadata": {
        "id": "pHYsRY7ZbrK7"
      }
    },
    {
      "cell_type": "code",
      "source": [
        "ls"
      ],
      "metadata": {
        "colab": {
          "base_uri": "https://localhost:8080/"
        },
        "id": "BzcWjj6bbs3v",
        "outputId": "444e6d38-df8b-4491-e38b-86059e3990a3"
      },
      "execution_count": null,
      "outputs": [
        {
          "output_type": "stream",
          "name": "stdout",
          "text": [
            "'age2023 (1).csv'   age2023.csv   \u001b[0m\u001b[01;34msample_data\u001b[0m/\n"
          ]
        }
      ]
    },
    {
      "cell_type": "markdown",
      "source": [
        "3) 한글폰트 세팅하기"
      ],
      "metadata": {
        "id": "uRl3igsgb9RW"
      }
    },
    {
      "cell_type": "code",
      "source": [
        "!apt-get install fonts-nanum -qq > /dev/null # 한글폰트설치\n",
        "!fc-cache -fv\n",
        "import matplotlib as mpl\n",
        "mpl.font_manager._rebuild()\n",
        "findfont = mpl.font_manager.fontManager.findfont\n",
        "mpl.font_manager.findfont = findfont\n",
        "mpl.backends.backend_agg.findfont = findfont\n",
        "\n",
        "\n",
        "import matplotlib.pyplot as plt\n",
        "plt.rc('font', family = 'NanumGothic')\n",
        "plt.rcParams['axes.unicode_minus']=False\n",
        "plt.title('한글제목')\n",
        "plt.plot([-1,0,1])\n",
        "plt.show()"
      ],
      "metadata": {
        "id": "k0MPDrUAb-vG"
      },
      "execution_count": null,
      "outputs": []
    },
    {
      "cell_type": "markdown",
      "source": [
        "4) 데이터 읽어오기"
      ],
      "metadata": {
        "id": "FBoXiM_tcF0B"
      }
    },
    {
      "cell_type": "code",
      "source": [
        "import csv\n",
        "data = csv.reader(open('age2023.csv'))\n",
        "\n",
        "for row in data :\n",
        "  print(row)"
      ],
      "metadata": {
        "id": "hh0R5D4-cHGW"
      },
      "execution_count": null,
      "outputs": []
    },
    {
      "cell_type": "markdown",
      "source": [
        "# 2. 우리 동네에는 어떤 사람들이 살까요?\n"
      ],
      "metadata": {
        "id": "91smdUISca9-"
      }
    },
    {
      "cell_type": "markdown",
      "source": [
        "1) 우리 동네 데이터만 뽑기"
      ],
      "metadata": {
        "id": "r66VJVpmdJCd"
      }
    },
    {
      "cell_type": "code",
      "source": [
        "import csv\n",
        "data = csv.reader(open('age2023.csv'))\n",
        "next(data)\n",
        "x = []\n",
        "for row in data :\n",
        "  if '용산' in row[0] :\n",
        "    for i in range(3, 104) :\n",
        "      x.append(int(row[i]))\n",
        "    break\n",
        "\n",
        "import matplotlib.pyplot as plt\n",
        "plt.plot(x)\n",
        "plt.show()\n"
      ],
      "metadata": {
        "id": "tM2YyrTDdCHl"
      },
      "execution_count": null,
      "outputs": []
    },
    {
      "cell_type": "markdown",
      "source": [
        "3) 10년 전 데이터와 비교하려면?"
      ],
      "metadata": {
        "id": "kmKwxLAUehy1"
      }
    },
    {
      "cell_type": "code",
      "source": [
        "from google.colab import files\n",
        "files.upload()"
      ],
      "metadata": {
        "id": "TlezlF-rfJVk"
      },
      "execution_count": null,
      "outputs": []
    },
    {
      "cell_type": "code",
      "source": [
        "import csv\n",
        "data1 = csv.reader(open('age2013.csv'))\n",
        "data2 = csv.reader(open('age2023.csv'))\n",
        "x1 = []\n",
        "x2 = []\n",
        "name = input(\"인구 변화가 궁금한 지역을 입력해주세요 : \")\n",
        "for row in data1 :\n",
        "  if name in row [0] :\n",
        "    for i in range(3, 104) :\n",
        "      x1.append(int(row[i]))\n",
        "    break\n",
        "\n",
        "for row in data2 :\n",
        "  if name in row [0] :\n",
        "    for i in range(3, 104) :\n",
        "      x2.append(int(row[i]))\n",
        "    break\n",
        "import matplotlib.pyplot as plt\n",
        "plt.plot(x1, c = 'blue')\n",
        "plt.plot(x2, c = 'red')\n",
        "plt.show()"
      ],
      "metadata": {
        "id": "qqzyilQugNvs"
      },
      "execution_count": null,
      "outputs": []
    },
    {
      "cell_type": "markdown",
      "source": [
        "#3) 제주도는 삼다도 일까요?"
      ],
      "metadata": {
        "id": "Y68gHe8pgI0k"
      }
    },
    {
      "cell_type": "markdown",
      "source": [
        "1)데이터 업로드"
      ],
      "metadata": {
        "id": "riMTMZQDgPvv"
      }
    },
    {
      "cell_type": "code",
      "source": [
        "from google.colab import files\n",
        "files.upload()"
      ],
      "metadata": {
        "id": "4ooD8NYugwZs"
      },
      "execution_count": null,
      "outputs": []
    },
    {
      "cell_type": "code",
      "source": [
        "import csv\n",
        "data = csv.reader(open('age_gender.csv'))\n",
        "m = []\n",
        "f = []\n",
        "for row in data :\n",
        "  if '제주특별자치도' in row[0] :\n",
        "    for i in range(3, 104) :\n",
        "      m.append(-int(row[i]))\n",
        "      f.append(int(row[i+103]))\n",
        "    break\n",
        "\n",
        "  print(m)\n",
        "  print(f)"
      ],
      "metadata": {
        "colab": {
          "base_uri": "https://localhost:8080/",
          "height": 136
        },
        "id": "S6SQZf6BgwIP",
        "outputId": "83fa0cf4-9ca5-413f-c40c-5a4473b50562"
      },
      "execution_count": null,
      "outputs": [
        {
          "output_type": "error",
          "ename": "IndentationError",
          "evalue": "ignored",
          "traceback": [
            "\u001b[0;36m  File \u001b[0;32m\"<tokenize>\"\u001b[0;36m, line \u001b[0;32m10\u001b[0m\n\u001b[0;31m    break\u001b[0m\n\u001b[0m    ^\u001b[0m\n\u001b[0;31mIndentationError\u001b[0m\u001b[0;31m:\u001b[0m unindent does not match any outer indentation level\n"
          ]
        }
      ]
    },
    {
      "cell_type": "code",
      "source": [
        "#시각화\n",
        "import matplotlib.pyplot as plt\n",
        "plt.barh(range(101),m)\n",
        "plt.barh(range(101),f)\n",
        "plt.show()"
      ],
      "metadata": {
        "colab": {
          "base_uri": "https://localhost:8080/",
          "height": 430
        },
        "id": "uqVVlZhQiuEx",
        "outputId": "bc707a89-a33c-48f0-8b13-5b9f33102910"
      },
      "execution_count": null,
      "outputs": [
        {
          "output_type": "display_data",
          "data": {
            "text/plain": [
              "<Figure size 640x480 with 1 Axes>"
            ],
            "image/png": "[encoded data removed]"
          },
          "metadata": {}
        }
      ]
    },
    {
      "cell_type": "code",
      "source": [
        "#최선의 방법인가?\n",
        "import csv\n",
        "data = csv.reader(open('age_gender.csv'))\n",
        "m = 0\n",
        "f = 0\n",
        "for row in data :\n",
        "  if '제주특별자치도' in row[0] :\n",
        "    for i in range(3, 104) :\n",
        "      m = m + int(row[i])\n",
        "      f = f + int(row[i+103])\n",
        "    break\n",
        "print(m)\n",
        "print(f)"
      ],
      "metadata": {
        "colab": {
          "base_uri": "https://localhost:8080/"
        },
        "id": "7qgMZw_QjXUe",
        "outputId": "d5d7b9b0-2700-4601-c55c-9e878d610594"
      },
      "execution_count": null,
      "outputs": [
        {
          "output_type": "stream",
          "name": "stdout",
          "text": [
            "339578\n",
            "338188\n"
          ]
        }
      ]
    },
    {
      "cell_type": "code",
      "source": [
        "import csv\n",
        "data = csv.reader(open('age_gender.csv'))\n",
        "c = []\n",
        "for row in data :\n",
        "  if '용산' in row[0] :\n",
        "    for i in range(3, 104) :\n",
        "      c.append(int(row[i+103]) - int(row[i]))\n",
        "    break\n",
        "import matplotlib.pyplot as plt\n",
        "plt.bar(range(101),c)\n",
        "plt.show()\n"
      ],
      "metadata": {
        "colab": {
          "base_uri": "https://localhost:8080/",
          "height": 430
        },
        "id": "1LhZUF4Yivy_",
        "outputId": "99e134e6-fd28-471b-97bb-1f7452a6d05d"
      },
      "execution_count": null,
      "outputs": [
        {
          "output_type": "display_data",
          "data": {
            "text/plain": [
              "<Figure size 640x480 with 1 Axes>"
            ],
            "image/png": "[encoded data removed]"
          },
          "metadata": {}
        }
      ]
    }
  ]
}